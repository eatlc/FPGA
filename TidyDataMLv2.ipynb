{
  "nbformat": 4,
  "nbformat_minor": 0,
  "metadata": {
    "colab": {
      "provenance": [],
      "collapsed_sections": [],
      "authorship_tag": "ABX9TyNER24Ggz3KpbT+euyii2fR",
      "include_colab_link": true
    },
    "kernelspec": {
      "name": "python3",
      "display_name": "Python 3"
    },
    "language_info": {
      "name": "python"
    }
  },
  "cells": [
    {
      "cell_type": "markdown",
      "metadata": {
        "id": "view-in-github",
        "colab_type": "text"
      },
      "source": [
        "<a href=\"https://colab.research.google.com/github/eatlc/FPGA-4x2_mux/blob/main/TidyDataMLv2.ipynb\" target=\"_parent\"><img src=\"https://colab.research.google.com/assets/colab-badge.svg\" alt=\"Open In Colab\"/></a>"
      ]
    },
    {
      "cell_type": "code",
      "execution_count": 360,
      "metadata": {
        "id": "cwi5wKUnuu16"
      },
      "outputs": [],
      "source": [
        "import pandas as pd\n",
        "import numpy as np\n",
        "import seaborn as sns\n",
        "import matplotlib.pyplot as plt\n",
        "\n",
        "import warnings\n",
        "warnings.filterwarnings(\"ignore\")"
      ]
    },
    {
      "cell_type": "code",
      "source": [
        "#kullandığım csv: tidy_data_test.csv\n",
        "from google.colab import files\n",
        "uploaded = files.upload()"
      ],
      "metadata": {
        "colab": {
          "resources": {
            "http://localhost:8080/nbextensions/google.colab/files.js": {
              "data": "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",
              "ok": true,
              "headers": [
                [
                  "content-type",
                  "application/javascript"
                ]
              ],
              "status": 200,
              "status_text": ""
            }
          },
          "base_uri": "https://localhost:8080/",
          "height": 73
        },
        "id": "hqAwNYWGwCi2",
        "outputId": "e546612a-2726-48e3-fccb-4776e6fb674d"
      },
      "execution_count": 361,
      "outputs": [
        {
          "output_type": "display_data",
          "data": {
            "text/plain": [
              "<IPython.core.display.HTML object>"
            ],
            "text/html": [
              "\n",
              "     <input type=\"file\" id=\"files-72be245f-3c84-4b23-985c-719066c9cc97\" name=\"files[]\" multiple disabled\n",
              "        style=\"border:none\" />\n",
              "     <output id=\"result-72be245f-3c84-4b23-985c-719066c9cc97\">\n",
              "      Upload widget is only available when the cell has been executed in the\n",
              "      current browser session. Please rerun this cell to enable.\n",
              "      </output>\n",
              "      <script src=\"/nbextensions/google.colab/files.js\"></script> "
            ]
          },
          "metadata": {}
        },
        {
          "output_type": "stream",
          "name": "stdout",
          "text": [
            "Saving tidy_data_test.csv to tidy_data_test (1).csv\n"
          ]
        }
      ]
    },
    {
      "cell_type": "code",
      "source": [
        "#test için kullanacağı verileri sildim bunlar tidy_data_v2 deki 85,94,112 TD verileri ve ASD olarak \n",
        "#burada kullanmadığım başlangı verilerinden 13 20 25i aldım\n",
        "df=pd.read_csv('tidy_data_test.csv')  \n",
        "df.shape"
      ],
      "metadata": {
        "colab": {
          "base_uri": "https://localhost:8080/"
        },
        "id": "U5TzLRHDwU2G",
        "outputId": "b045118a-873d-43ca-92e2-4333a36fff2f"
      },
      "execution_count": 362,
      "outputs": [
        {
          "output_type": "execute_result",
          "data": {
            "text/plain": [
              "(160, 63)"
            ]
          },
          "metadata": {},
          "execution_count": 362
        }
      ]
    },
    {
      "cell_type": "code",
      "source": [
        "#data daki idx değerlerini işime yaramadığı için sildim.\n",
        "del df['idx']\n",
        "\n",
        "#aşağıdaki datalarda TD çocuklar için boş kalan kısımlar var bunları\n",
        "#değişkenleri cinsinden yani int veya float olmak üzere 0 lar ile doldurdum\n",
        "df[\"FixGeo\"].fillna(0, inplace = True)\n",
        "df['ET1_Age'].fillna(0, inplace=True)\n",
        "df['ETage'].fillna(0, inplace = True)\n",
        "df['Fixation_Duration_Geometric_AOI'].fillna(0, inplace = True)\n",
        "df['Fixation_Duration_Social_AOI'].fillna(0, inplace = True)\n",
        "df['Total_Fixation_Time'].fillna(0, inplace = True)\n",
        "df['Percent_Fixation_Social'].fillna(0, inplace = True)\n",
        "df['Percent_Fixation_Geometric'].fillna(0, inplace = True)\n",
        "df['ADOS_CoSoTot'].fillna(int(0), inplace = True)\n",
        "df['ADOSatscan_age'].fillna(0, inplace = True)\n",
        "df['ADOSatscan_module'].fillna(\"0\", inplace = True)\n",
        "\n",
        "#ASD ve TD değerlerinin dengeli olması için başlangıçtan 50 tane ASDli\n",
        "#datayı kullanmadım\n",
        "df=df.iloc[50:164]\n",
        "\n",
        "#CaseControl değerlerini int e çevirdim \n",
        "#ASD:1 TD:0 olarak kaydettim\n",
        "df['CaseControl'].replace({'ASD':int(1), 'TD':int(0)},inplace=True)\n",
        "\n",
        "#ADOSatscan_module sütununda Module1, Module2, Toddler ve boş satırlar vardı\n",
        "#bunları kullanabilmek aşağıdaki fonksiyon ile hepsini sütun haline getirdim\n",
        "#ve ADOSatscan sütununu artık bu şekilde kullanacağım için sildim.\n",
        "#concat satırları sütun yapıyor\n",
        "ADOSatscan = pd.get_dummies(df['ADOSatscan_module'], drop_first = True)\n",
        "df = pd.concat([df, ADOSatscan], axis=1)\n",
        "del df['ADOSatscan_module']\n",
        "\n",
        "#cinsiyet değişkenini de kadın:1 erkek:0 yaptım\n",
        "df['sex'].replace({'F':int(1),'M':int(0)},inplace=True)\n"
      ],
      "metadata": {
        "id": "DL5adcKDmDVS"
      },
      "execution_count": 363,
      "outputs": []
    },
    {
      "cell_type": "code",
      "source": [
        "#burada ASD ve TD verlerimim dengesine baktım, birbirlerine yakın olması tavsiye edilir.\n",
        "df['CaseControl'].value_counts(normalize = True)"
      ],
      "metadata": {
        "colab": {
          "base_uri": "https://localhost:8080/"
        },
        "id": "FzabTbJu3Yny",
        "outputId": "245fce48-854e-4b63-8c72-bd1feecd2a1f"
      },
      "execution_count": 364,
      "outputs": [
        {
          "output_type": "execute_result",
          "data": {
            "text/plain": [
              "1    0.536364\n",
              "0    0.463636\n",
              "Name: CaseControl, dtype: float64"
            ]
          },
          "metadata": {},
          "execution_count": 364
        }
      ]
    },
    {
      "cell_type": "code",
      "source": [
        "from sklearn.model_selection import train_test_split  \n",
        "# %60 train, %20 validation, %20 test\n",
        "seed=111   \n",
        "X = df.drop('CaseControl', axis=1)\n",
        "y = df['CaseControl']\n",
        "X_train, X_test, y_train, y_test = train_test_split(X, y, test_size = 0.4, \n",
        "                                                    random_state = seed)\n",
        "\n",
        "X_val, X_test, y_val, y_test = train_test_split(X_test, y_test, test_size = 0.5, \n",
        "                                                    random_state = seed)\n",
        "\n"
      ],
      "metadata": {
        "id": "QBR6sjMr3Wfa"
      },
      "execution_count": 365,
      "outputs": []
    },
    {
      "cell_type": "code",
      "source": [
        "X.shape"
      ],
      "metadata": {
        "colab": {
          "base_uri": "https://localhost:8080/"
        },
        "id": "F0wbMvXSQq95",
        "outputId": "0f9eb355-377e-4250-faeb-bf055f05906c"
      },
      "execution_count": 366,
      "outputs": [
        {
          "output_type": "execute_result",
          "data": {
            "text/plain": [
              "(110, 63)"
            ]
          },
          "metadata": {},
          "execution_count": 366
        }
      ]
    },
    {
      "cell_type": "code",
      "source": [
        "X.info()"
      ],
      "metadata": {
        "colab": {
          "base_uri": "https://localhost:8080/"
        },
        "id": "AEd1XDHoXOXl",
        "outputId": "0026a11f-4cb5-4394-9cff-1ed6993c36ea"
      },
      "execution_count": 367,
      "outputs": [
        {
          "output_type": "stream",
          "name": "stdout",
          "text": [
            "<class 'pandas.core.frame.DataFrame'>\n",
            "RangeIndex: 110 entries, 50 to 159\n",
            "Data columns (total 63 columns):\n",
            " #   Column                           Non-Null Count  Dtype  \n",
            "---  ------                           --------------  -----  \n",
            " 0   sex                              110 non-null    int64  \n",
            " 1   scan_age                         110 non-null    float64\n",
            " 2   FixGeo                           110 non-null    float64\n",
            " 3   ETage                            110 non-null    float64\n",
            " 4   ET1_Age                          110 non-null    float64\n",
            " 5   Fixation_Duration_Geometric_AOI  110 non-null    float64\n",
            " 6   Fixation_Duration_Social_AOI     110 non-null    float64\n",
            " 7   Total_Fixation_Time              110 non-null    float64\n",
            " 8   Percent_Fixation_Geometric       110 non-null    float64\n",
            " 9   Percent_Fixation_Social          110 non-null    float64\n",
            " 10  meanFD                           110 non-null    float64\n",
            " 11  meanDVARSwavelet                 110 non-null    float64\n",
            " 12  meanDVARSraw                     110 non-null    float64\n",
            " 13  ADOS_CoSoTot                     110 non-null    float64\n",
            " 14  ADOSatscan_age                   110 non-null    float64\n",
            " 15  IC02_IC04                        110 non-null    float64\n",
            " 16  IC02_IC05                        110 non-null    float64\n",
            " 17  IC02_IC06                        110 non-null    float64\n",
            " 18  IC02_IC09                        110 non-null    float64\n",
            " 19  IC02_IC10                        110 non-null    float64\n",
            " 20  IC02_IC11                        110 non-null    float64\n",
            " 21  IC02_IC21                        110 non-null    float64\n",
            " 22  IC02_IC26                        110 non-null    float64\n",
            " 23  IC02_IC28                        110 non-null    float64\n",
            " 24  IC04_IC05                        110 non-null    float64\n",
            " 25  IC04_IC06                        110 non-null    float64\n",
            " 26  IC04_IC09                        110 non-null    float64\n",
            " 27  IC04_IC10                        110 non-null    float64\n",
            " 28  IC04_IC11                        110 non-null    float64\n",
            " 29  IC04_IC21                        110 non-null    float64\n",
            " 30  IC04_IC26                        110 non-null    float64\n",
            " 31  IC04_IC28                        110 non-null    float64\n",
            " 32  IC05_IC06                        110 non-null    float64\n",
            " 33  IC05_IC09                        110 non-null    float64\n",
            " 34  IC05_IC10                        110 non-null    float64\n",
            " 35  IC05_IC11                        110 non-null    float64\n",
            " 36  IC05_IC21                        110 non-null    float64\n",
            " 37  IC05_IC26                        110 non-null    float64\n",
            " 38  IC05_IC28                        110 non-null    float64\n",
            " 39  IC06_IC09                        110 non-null    float64\n",
            " 40  IC06_IC10                        110 non-null    float64\n",
            " 41  IC06_IC11                        110 non-null    float64\n",
            " 42  IC06_IC21                        110 non-null    float64\n",
            " 43  IC06_IC26                        110 non-null    float64\n",
            " 44  IC06_IC28                        110 non-null    float64\n",
            " 45  IC09_IC10                        110 non-null    float64\n",
            " 46  IC09_IC11                        110 non-null    float64\n",
            " 47  IC09_IC21                        110 non-null    float64\n",
            " 48  IC09_IC26                        110 non-null    float64\n",
            " 49  IC09_IC28                        110 non-null    float64\n",
            " 50  IC10_IC11                        110 non-null    float64\n",
            " 51  IC10_IC21                        110 non-null    float64\n",
            " 52  IC10_IC26                        110 non-null    float64\n",
            " 53  IC10_IC28                        110 non-null    float64\n",
            " 54  IC11_IC21                        110 non-null    float64\n",
            " 55  IC11_IC26                        110 non-null    float64\n",
            " 56  IC11_IC28                        110 non-null    float64\n",
            " 57  IC21_IC26                        110 non-null    float64\n",
            " 58  IC21_IC28                        110 non-null    float64\n",
            " 59  IC26_IC28                        110 non-null    float64\n",
            " 60  Module1                          110 non-null    uint8  \n",
            " 61  Module2                          110 non-null    uint8  \n",
            " 62  Toddler                          110 non-null    uint8  \n",
            "dtypes: float64(59), int64(1), uint8(3)\n",
            "memory usage: 52.0 KB\n"
          ]
        }
      ]
    },
    {
      "cell_type": "code",
      "source": [
        "#Lojistik regresyon\n",
        "\n",
        "from sklearn.linear_model import LogisticRegression\n",
        "from sklearn.model_selection import GridSearchCV\n",
        "\n",
        "lr = LogisticRegression(random_state = seed)\n",
        "\n",
        "lr_hyp = {'C':[0.001, 0.01, 0.1, 1, 10, 100]}\n",
        "\n",
        "lr_cv= GridSearchCV(lr, lr_hyp, cv = 5)\n",
        "\n",
        "lr_cv.fit(X_train, y_train)\n",
        "\n",
        "print(lr_cv.best_score_)\n",
        "print(lr_cv.best_estimator_)\n"
      ],
      "metadata": {
        "colab": {
          "base_uri": "https://localhost:8080/"
        },
        "id": "f67seiXM5Bcp",
        "outputId": "5d736ad7-9213-41da-d4fe-3c8f790797cb"
      },
      "execution_count": 368,
      "outputs": [
        {
          "output_type": "stream",
          "name": "stdout",
          "text": [
            "1.0\n",
            "LogisticRegression(C=0.01, random_state=111)\n"
          ]
        }
      ]
    },
    {
      "cell_type": "code",
      "source": [
        "#Random Forrest\n",
        "from sklearn.ensemble import RandomForestClassifier\n",
        "from sklearn.metrics import accuracy_score\n",
        "RF = RandomForestClassifier(random_state=seed)\n",
        "RF_hyp = {'n_estimators':[5, 10, 20, 50, 100, 200],\n",
        "          'max_depth':[None, 2, 5, 10, 15, 20]}\n",
        "\n",
        "RF_cv = GridSearchCV(RF, RF_hyp, cv = 5)\n",
        "RF_cv.fit(X_train, y_train)\n",
        "\n",
        "print(RF_cv.best_score_)\n",
        "print(RF_cv.best_estimator_)"
      ],
      "metadata": {
        "colab": {
          "base_uri": "https://localhost:8080/"
        },
        "id": "_r2d2BEF5_CH",
        "outputId": "4da7a28a-b642-4213-edfe-b1304e62712b"
      },
      "execution_count": 369,
      "outputs": [
        {
          "output_type": "stream",
          "name": "stdout",
          "text": [
            "1.0\n",
            "RandomForestClassifier(n_estimators=50, random_state=111)\n"
          ]
        }
      ]
    },
    {
      "cell_type": "code",
      "source": [
        "# SVM\n",
        "\n",
        "from sklearn.svm import SVC\n",
        "\n",
        "sv = SVC(random_state = seed)\n",
        "sv_hyp = {'C': [0.1, 1, 10], 'kernel':['linear', 'rbf']}\n",
        "\n",
        "svm_cv = GridSearchCV(sv, sv_hyp, cv=5)\n",
        "svm_cv.fit(X_train, y_train)\n",
        "           \n",
        "print(svm_cv.best_score_)\n",
        "print(svm_cv.best_estimator_)"
      ],
      "metadata": {
        "colab": {
          "base_uri": "https://localhost:8080/"
        },
        "id": "MJhPqSXZ6JeL",
        "outputId": "97b237ee-e3ff-49ed-e45a-dfdfbc443f94"
      },
      "execution_count": 370,
      "outputs": [
        {
          "output_type": "stream",
          "name": "stdout",
          "text": [
            "1.0\n",
            "SVC(C=0.1, kernel='linear', random_state=111)\n"
          ]
        }
      ]
    },
    {
      "cell_type": "code",
      "source": [
        "#Bagging Sınıflandırma\n",
        "\n",
        "from sklearn.ensemble import BaggingClassifier\n",
        "\n",
        "bc = BaggingClassifier(random_state=seed)\n",
        "\n",
        "bc_hyp = {'n_estimators': [5, 10, 20, 50, 100, 200]}\n",
        "\n",
        "bc_cv = GridSearchCV(bc, bc_hyp, cv=5)\n",
        "\n",
        "bc_cv.fit(X_train, y_train)\n",
        "\n",
        "print(bc_cv.best_score_)\n",
        "print(bc_cv.best_estimator_)"
      ],
      "metadata": {
        "colab": {
          "base_uri": "https://localhost:8080/"
        },
        "id": "jCgbwPUl6K2I",
        "outputId": "8c774690-e342-4e09-9001-9b69dc43fee9"
      },
      "execution_count": 371,
      "outputs": [
        {
          "output_type": "stream",
          "name": "stdout",
          "text": [
            "1.0\n",
            "BaggingClassifier(n_estimators=5, random_state=111)\n"
          ]
        }
      ]
    },
    {
      "cell_type": "code",
      "source": [
        "#Performansların değerlendirilmesi ve modelin seçimi\n",
        "\n",
        "def model_evaluation(model, features, labels):\n",
        "  pred = model.predict(features)\n",
        "  score = accuracy_score(y_val, pred)\n",
        "  print('Score globale du modele:' , round(score, 3))"
      ],
      "metadata": {
        "id": "twkQkffA6PZx"
      },
      "execution_count": 372,
      "outputs": []
    },
    {
      "cell_type": "code",
      "source": [
        "models = [lr_cv.best_estimator_, RF_cv.best_estimator_,\n",
        "          svm_cv.best_estimator_, bc_cv.best_estimator_]\n",
        "\n",
        "for model in models:\n",
        "  print('Model' + str(model))\n",
        "  model_evaluation(model, X_val, y_val)\n",
        "  print('-'*90)"
      ],
      "metadata": {
        "colab": {
          "base_uri": "https://localhost:8080/"
        },
        "id": "-t8s4-1B6Q9x",
        "outputId": "6b9b2d28-d1e2-4520-9ccf-b223b48f2f46"
      },
      "execution_count": 373,
      "outputs": [
        {
          "output_type": "stream",
          "name": "stdout",
          "text": [
            "ModelLogisticRegression(C=0.01, random_state=111)\n",
            "Score globale du modele: 1.0\n",
            "------------------------------------------------------------------------------------------\n",
            "ModelRandomForestClassifier(n_estimators=50, random_state=111)\n",
            "Score globale du modele: 1.0\n",
            "------------------------------------------------------------------------------------------\n",
            "ModelSVC(C=0.1, kernel='linear', random_state=111)\n",
            "Score globale du modele: 1.0\n",
            "------------------------------------------------------------------------------------------\n",
            "ModelBaggingClassifier(n_estimators=5, random_state=111)\n",
            "Score globale du modele: 1.0\n",
            "------------------------------------------------------------------------------------------\n"
          ]
        }
      ]
    },
    {
      "cell_type": "code",
      "source": [
        "#En iyi modelin test verileriyle performansı \n",
        "\n",
        "accuracy_score(y_test, bc_cv.best_estimator_.predict(X_test))"
      ],
      "metadata": {
        "colab": {
          "base_uri": "https://localhost:8080/"
        },
        "id": "snyFe6Q86XdO",
        "outputId": "067b8655-2ae8-4303-d50e-76bdc2351175"
      },
      "execution_count": 374,
      "outputs": [
        {
          "output_type": "execute_result",
          "data": {
            "text/plain": [
              "1.0"
            ]
          },
          "metadata": {},
          "execution_count": 374
        }
      ]
    },
    {
      "cell_type": "code",
      "source": [
        "#test iin kullanacağım değerli, silmediğim csv den alıyorum \n",
        "#kullandığım csv: tidy_data_v2.csv\n",
        "uploaded2 = files.upload()"
      ],
      "metadata": {
        "colab": {
          "resources": {
            "http://localhost:8080/nbextensions/google.colab/files.js": {
              "data": "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",
              "ok": true,
              "headers": [
                [
                  "content-type",
                  "application/javascript"
                ]
              ],
              "status": 200,
              "status_text": ""
            }
          },
          "base_uri": "https://localhost:8080/",
          "height": 73
        },
        "id": "odBbQtCCA0tr",
        "outputId": "1607460b-2ff4-4ee8-905c-1e1eb5834bd2"
      },
      "execution_count": 375,
      "outputs": [
        {
          "output_type": "display_data",
          "data": {
            "text/plain": [
              "<IPython.core.display.HTML object>"
            ],
            "text/html": [
              "\n",
              "     <input type=\"file\" id=\"files-51f4b0ac-538d-4e06-bab7-e57a7aaa3034\" name=\"files[]\" multiple disabled\n",
              "        style=\"border:none\" />\n",
              "     <output id=\"result-51f4b0ac-538d-4e06-bab7-e57a7aaa3034\">\n",
              "      Upload widget is only available when the cell has been executed in the\n",
              "      current browser session. Please rerun this cell to enable.\n",
              "      </output>\n",
              "      <script src=\"/nbextensions/google.colab/files.js\"></script> "
            ]
          },
          "metadata": {}
        },
        {
          "output_type": "stream",
          "name": "stdout",
          "text": [
            "Saving tidy_data_v2.csv to tidy_data_v2 (8).csv\n"
          ]
        }
      ]
    },
    {
      "cell_type": "code",
      "source": [
        "dfi=pd.read_csv('tidy_data_v2.csv')\n",
        "\n",
        "#yukarıdaki gibi önce cvs yi kullanabileceğim hale getiriyorum\n",
        "#boş verileri 0la dolduruyorum, bir sütunu satır yapıyorum vs. yukarıdaki gibi\n",
        "\n",
        "del dfi['idx']\n",
        "dfi[\"FixGeo\"].fillna(0, inplace = True)\n",
        "dfi['ET1_Age'].fillna(0, inplace=True)\n",
        "dfi['ETage'].fillna(0, inplace = True)\n",
        "dfi['Fixation_Duration_Geometric_AOI'].fillna(0, inplace = True)\n",
        "dfi['Fixation_Duration_Social_AOI'].fillna(0, inplace = True)\n",
        "dfi['Total_Fixation_Time'].fillna(0, inplace = True)\n",
        "dfi['Percent_Fixation_Social'].fillna(0, inplace = True)\n",
        "dfi['Percent_Fixation_Geometric'].fillna(0, inplace = True)\n",
        "dfi['ADOS_CoSoTot'].fillna(int(0), inplace = True)\n",
        "dfi['ADOSatscan_age'].fillna(0, inplace = True)\n",
        "dfi['ADOSatscan_module'].fillna(\"0\", inplace = True)\n",
        "\n",
        "ADOSatscani = pd.get_dummies(dfi['ADOSatscan_module'], drop_first = True)\n",
        "dfi = pd.concat([dfi, ADOSatscani], axis=1)\n",
        "del dfi['ADOSatscan_module']\n",
        "dfi['sex'].replace({'F':int(1),'M':int(0)},inplace=True)"
      ],
      "metadata": {
        "id": "dm1ul1hLYvFi"
      },
      "execution_count": 376,
      "outputs": []
    },
    {
      "cell_type": "code",
      "source": [
        "#Buradan test için kullanacağım, train veri setinde silinmiş olan \n",
        "#satırları çekip birleştiriyorum. \n",
        "#3 tane ASD, 3 tane TD aldım\n",
        "\n",
        "df1=dfi.iloc[13:14,:]\n",
        "df2=dfi.iloc[20:21,:]\n",
        "df3=dfi.iloc[25:26,:]\n",
        "df4=dfi.iloc[85:86,:]\n",
        "df5=dfi.iloc[94:95,:]\n",
        "df6=dfi.iloc[112:113,:]\n",
        "\n",
        "df_son=pd.concat([df1,df2,df3,df4,df5,df6])\n",
        "df_son"
      ],
      "metadata": {
        "colab": {
          "base_uri": "https://localhost:8080/",
          "height": 331
        },
        "id": "PFvCLSzd5PTg",
        "outputId": "efe9cd4a-eef1-4b69-b89a-00f05d3e00e9"
      },
      "execution_count": 377,
      "outputs": [
        {
          "output_type": "execute_result",
          "data": {
            "text/plain": [
              "    CaseControl  sex   scan_age  FixGeo  ETage  ET1_Age  \\\n",
              "13          ASD    0  30.423057   87.40   39.0     39.0   \n",
              "20          ASD    0  34.299337   42.91   25.0     25.0   \n",
              "25          ASD    1  30.028856   62.94   41.0     41.0   \n",
              "85           TD    0  13.273101   26.14   12.0     12.0   \n",
              "94           TD    1  41.297710   35.50   40.0     40.0   \n",
              "112          TD    0  44.089873    4.39   30.0     30.0   \n",
              "\n",
              "     Fixation_Duration_Geometric_AOI  Fixation_Duration_Social_AOI  \\\n",
              "13                             41.82                          6.03   \n",
              "20                             13.79                         18.34   \n",
              "25                             37.96                         22.35   \n",
              "85                             11.34                         32.04   \n",
              "94                             18.08                         32.84   \n",
              "112                             2.63                         57.26   \n",
              "\n",
              "     Total_Fixation_Time  Percent_Fixation_Geometric  ...  IC10_IC28  \\\n",
              "13                 47.85                       87.40  ...   0.272466   \n",
              "20                 32.13                       42.91  ...   0.248428   \n",
              "25                 60.31                       62.94  ...   0.530700   \n",
              "85                 43.38                       26.14  ...  -0.158176   \n",
              "94                 50.92                       35.50  ...   0.277143   \n",
              "112                59.89                        4.39  ...  -0.273863   \n",
              "\n",
              "     IC11_IC21  IC11_IC26  IC11_IC28  IC21_IC26  IC21_IC28  IC26_IC28  \\\n",
              "13   -0.520472  -0.127712  -0.150710  -0.012135  -0.159009   0.029039   \n",
              "20   -0.479888  -0.184320   0.106633  -0.110601  -0.284718   0.251845   \n",
              "25   -0.028112  -0.098700  -0.394631  -0.073807  -0.124685   0.112588   \n",
              "85   -0.241302  -0.028340   0.098889  -0.102713   0.089986  -0.079520   \n",
              "94   -0.270500  -0.267857   0.050070  -0.197890  -0.098510  -0.128530   \n",
              "112  -0.379613  -0.012803   0.096570  -0.038959  -0.213739   0.182977   \n",
              "\n",
              "     Module1  Module2  Toddler  \n",
              "13         1        0        0  \n",
              "20         1        0        0  \n",
              "25         0        0        1  \n",
              "85         0        0        0  \n",
              "94         0        0        0  \n",
              "112        0        0        0  \n",
              "\n",
              "[6 rows x 64 columns]"
            ],
            "text/html": [
              "\n",
              "  <div id=\"df-00b77a79-e3a7-46e1-a4eb-2eb8b7bdb5fb\">\n",
              "    <div class=\"colab-df-container\">\n",
              "      <div>\n",
              "<style scoped>\n",
              "    .dataframe tbody tr th:only-of-type {\n",
              "        vertical-align: middle;\n",
              "    }\n",
              "\n",
              "    .dataframe tbody tr th {\n",
              "        vertical-align: top;\n",
              "    }\n",
              "\n",
              "    .dataframe thead th {\n",
              "        text-align: right;\n",
              "    }\n",
              "</style>\n",
              "<table border=\"1\" class=\"dataframe\">\n",
              "  <thead>\n",
              "    <tr style=\"text-align: right;\">\n",
              "      <th></th>\n",
              "      <th>CaseControl</th>\n",
              "      <th>sex</th>\n",
              "      <th>scan_age</th>\n",
              "      <th>FixGeo</th>\n",
              "      <th>ETage</th>\n",
              "      <th>ET1_Age</th>\n",
              "      <th>Fixation_Duration_Geometric_AOI</th>\n",
              "      <th>Fixation_Duration_Social_AOI</th>\n",
              "      <th>Total_Fixation_Time</th>\n",
              "      <th>Percent_Fixation_Geometric</th>\n",
              "      <th>...</th>\n",
              "      <th>IC10_IC28</th>\n",
              "      <th>IC11_IC21</th>\n",
              "      <th>IC11_IC26</th>\n",
              "      <th>IC11_IC28</th>\n",
              "      <th>IC21_IC26</th>\n",
              "      <th>IC21_IC28</th>\n",
              "      <th>IC26_IC28</th>\n",
              "      <th>Module1</th>\n",
              "      <th>Module2</th>\n",
              "      <th>Toddler</th>\n",
              "    </tr>\n",
              "  </thead>\n",
              "  <tbody>\n",
              "    <tr>\n",
              "      <th>13</th>\n",
              "      <td>ASD</td>\n",
              "      <td>0</td>\n",
              "      <td>30.423057</td>\n",
              "      <td>87.40</td>\n",
              "      <td>39.0</td>\n",
              "      <td>39.0</td>\n",
              "      <td>41.82</td>\n",
              "      <td>6.03</td>\n",
              "      <td>47.85</td>\n",
              "      <td>87.40</td>\n",
              "      <td>...</td>\n",
              "      <td>0.272466</td>\n",
              "      <td>-0.520472</td>\n",
              "      <td>-0.127712</td>\n",
              "      <td>-0.150710</td>\n",
              "      <td>-0.012135</td>\n",
              "      <td>-0.159009</td>\n",
              "      <td>0.029039</td>\n",
              "      <td>1</td>\n",
              "      <td>0</td>\n",
              "      <td>0</td>\n",
              "    </tr>\n",
              "    <tr>\n",
              "      <th>20</th>\n",
              "      <td>ASD</td>\n",
              "      <td>0</td>\n",
              "      <td>34.299337</td>\n",
              "      <td>42.91</td>\n",
              "      <td>25.0</td>\n",
              "      <td>25.0</td>\n",
              "      <td>13.79</td>\n",
              "      <td>18.34</td>\n",
              "      <td>32.13</td>\n",
              "      <td>42.91</td>\n",
              "      <td>...</td>\n",
              "      <td>0.248428</td>\n",
              "      <td>-0.479888</td>\n",
              "      <td>-0.184320</td>\n",
              "      <td>0.106633</td>\n",
              "      <td>-0.110601</td>\n",
              "      <td>-0.284718</td>\n",
              "      <td>0.251845</td>\n",
              "      <td>1</td>\n",
              "      <td>0</td>\n",
              "      <td>0</td>\n",
              "    </tr>\n",
              "    <tr>\n",
              "      <th>25</th>\n",
              "      <td>ASD</td>\n",
              "      <td>1</td>\n",
              "      <td>30.028856</td>\n",
              "      <td>62.94</td>\n",
              "      <td>41.0</td>\n",
              "      <td>41.0</td>\n",
              "      <td>37.96</td>\n",
              "      <td>22.35</td>\n",
              "      <td>60.31</td>\n",
              "      <td>62.94</td>\n",
              "      <td>...</td>\n",
              "      <td>0.530700</td>\n",
              "      <td>-0.028112</td>\n",
              "      <td>-0.098700</td>\n",
              "      <td>-0.394631</td>\n",
              "      <td>-0.073807</td>\n",
              "      <td>-0.124685</td>\n",
              "      <td>0.112588</td>\n",
              "      <td>0</td>\n",
              "      <td>0</td>\n",
              "      <td>1</td>\n",
              "    </tr>\n",
              "    <tr>\n",
              "      <th>85</th>\n",
              "      <td>TD</td>\n",
              "      <td>0</td>\n",
              "      <td>13.273101</td>\n",
              "      <td>26.14</td>\n",
              "      <td>12.0</td>\n",
              "      <td>12.0</td>\n",
              "      <td>11.34</td>\n",
              "      <td>32.04</td>\n",
              "      <td>43.38</td>\n",
              "      <td>26.14</td>\n",
              "      <td>...</td>\n",
              "      <td>-0.158176</td>\n",
              "      <td>-0.241302</td>\n",
              "      <td>-0.028340</td>\n",
              "      <td>0.098889</td>\n",
              "      <td>-0.102713</td>\n",
              "      <td>0.089986</td>\n",
              "      <td>-0.079520</td>\n",
              "      <td>0</td>\n",
              "      <td>0</td>\n",
              "      <td>0</td>\n",
              "    </tr>\n",
              "    <tr>\n",
              "      <th>94</th>\n",
              "      <td>TD</td>\n",
              "      <td>1</td>\n",
              "      <td>41.297710</td>\n",
              "      <td>35.50</td>\n",
              "      <td>40.0</td>\n",
              "      <td>40.0</td>\n",
              "      <td>18.08</td>\n",
              "      <td>32.84</td>\n",
              "      <td>50.92</td>\n",
              "      <td>35.50</td>\n",
              "      <td>...</td>\n",
              "      <td>0.277143</td>\n",
              "      <td>-0.270500</td>\n",
              "      <td>-0.267857</td>\n",
              "      <td>0.050070</td>\n",
              "      <td>-0.197890</td>\n",
              "      <td>-0.098510</td>\n",
              "      <td>-0.128530</td>\n",
              "      <td>0</td>\n",
              "      <td>0</td>\n",
              "      <td>0</td>\n",
              "    </tr>\n",
              "    <tr>\n",
              "      <th>112</th>\n",
              "      <td>TD</td>\n",
              "      <td>0</td>\n",
              "      <td>44.089873</td>\n",
              "      <td>4.39</td>\n",
              "      <td>30.0</td>\n",
              "      <td>30.0</td>\n",
              "      <td>2.63</td>\n",
              "      <td>57.26</td>\n",
              "      <td>59.89</td>\n",
              "      <td>4.39</td>\n",
              "      <td>...</td>\n",
              "      <td>-0.273863</td>\n",
              "      <td>-0.379613</td>\n",
              "      <td>-0.012803</td>\n",
              "      <td>0.096570</td>\n",
              "      <td>-0.038959</td>\n",
              "      <td>-0.213739</td>\n",
              "      <td>0.182977</td>\n",
              "      <td>0</td>\n",
              "      <td>0</td>\n",
              "      <td>0</td>\n",
              "    </tr>\n",
              "  </tbody>\n",
              "</table>\n",
              "<p>6 rows × 64 columns</p>\n",
              "</div>\n",
              "      <button class=\"colab-df-convert\" onclick=\"convertToInteractive('df-00b77a79-e3a7-46e1-a4eb-2eb8b7bdb5fb')\"\n",
              "              title=\"Convert this dataframe to an interactive table.\"\n",
              "              style=\"display:none;\">\n",
              "        \n",
              "  <svg xmlns=\"http://www.w3.org/2000/svg\" height=\"24px\"viewBox=\"0 0 24 24\"\n",
              "       width=\"24px\">\n",
              "    <path d=\"M0 0h24v24H0V0z\" fill=\"none\"/>\n",
              "    <path d=\"M18.56 5.44l.94 2.06.94-2.06 2.06-.94-2.06-.94-.94-2.06-.94 2.06-2.06.94zm-11 1L8.5 8.5l.94-2.06 2.06-.94-2.06-.94L8.5 2.5l-.94 2.06-2.06.94zm10 10l.94 2.06.94-2.06 2.06-.94-2.06-.94-.94-2.06-.94 2.06-2.06.94z\"/><path d=\"M17.41 7.96l-1.37-1.37c-.4-.4-.92-.59-1.43-.59-.52 0-1.04.2-1.43.59L10.3 9.45l-7.72 7.72c-.78.78-.78 2.05 0 2.83L4 21.41c.39.39.9.59 1.41.59.51 0 1.02-.2 1.41-.59l7.78-7.78 2.81-2.81c.8-.78.8-2.07 0-2.86zM5.41 20L4 18.59l7.72-7.72 1.47 1.35L5.41 20z\"/>\n",
              "  </svg>\n",
              "      </button>\n",
              "      \n",
              "  <style>\n",
              "    .colab-df-container {\n",
              "      display:flex;\n",
              "      flex-wrap:wrap;\n",
              "      gap: 12px;\n",
              "    }\n",
              "\n",
              "    .colab-df-convert {\n",
              "      background-color: #E8F0FE;\n",
              "      border: none;\n",
              "      border-radius: 50%;\n",
              "      cursor: pointer;\n",
              "      display: none;\n",
              "      fill: #1967D2;\n",
              "      height: 32px;\n",
              "      padding: 0 0 0 0;\n",
              "      width: 32px;\n",
              "    }\n",
              "\n",
              "    .colab-df-convert:hover {\n",
              "      background-color: #E2EBFA;\n",
              "      box-shadow: 0px 1px 2px rgba(60, 64, 67, 0.3), 0px 1px 3px 1px rgba(60, 64, 67, 0.15);\n",
              "      fill: #174EA6;\n",
              "    }\n",
              "\n",
              "    [theme=dark] .colab-df-convert {\n",
              "      background-color: #3B4455;\n",
              "      fill: #D2E3FC;\n",
              "    }\n",
              "\n",
              "    [theme=dark] .colab-df-convert:hover {\n",
              "      background-color: #434B5C;\n",
              "      box-shadow: 0px 1px 3px 1px rgba(0, 0, 0, 0.15);\n",
              "      filter: drop-shadow(0px 1px 2px rgba(0, 0, 0, 0.3));\n",
              "      fill: #FFFFFF;\n",
              "    }\n",
              "  </style>\n",
              "\n",
              "      <script>\n",
              "        const buttonEl =\n",
              "          document.querySelector('#df-00b77a79-e3a7-46e1-a4eb-2eb8b7bdb5fb button.colab-df-convert');\n",
              "        buttonEl.style.display =\n",
              "          google.colab.kernel.accessAllowed ? 'block' : 'none';\n",
              "\n",
              "        async function convertToInteractive(key) {\n",
              "          const element = document.querySelector('#df-00b77a79-e3a7-46e1-a4eb-2eb8b7bdb5fb');\n",
              "          const dataTable =\n",
              "            await google.colab.kernel.invokeFunction('convertToInteractive',\n",
              "                                                     [key], {});\n",
              "          if (!dataTable) return;\n",
              "\n",
              "          const docLinkHtml = 'Like what you see? Visit the ' +\n",
              "            '<a target=\"_blank\" href=https://colab.research.google.com/notebooks/data_table.ipynb>data table notebook</a>'\n",
              "            + ' to learn more about interactive tables.';\n",
              "          element.innerHTML = '';\n",
              "          dataTable['output_type'] = 'display_data';\n",
              "          await google.colab.output.renderOutput(dataTable, element);\n",
              "          const docLink = document.createElement('div');\n",
              "          docLink.innerHTML = docLinkHtml;\n",
              "          element.appendChild(docLink);\n",
              "        }\n",
              "      </script>\n",
              "    </div>\n",
              "  </div>\n",
              "  "
            ]
          },
          "metadata": {},
          "execution_count": 377
        }
      ]
    },
    {
      "cell_type": "code",
      "source": [
        "#test edbilmek için CaseControl kısmını siliyorum.\n",
        "#yukarıda hangisi ASD hangisi TD bilmek için gösterdim\n",
        "del df_son['CaseControl']"
      ],
      "metadata": {
        "id": "ZFntzlvz7J7Q"
      },
      "execution_count": 378,
      "outputs": []
    },
    {
      "cell_type": "code",
      "source": [
        "#istediğim satırı alıyorum\n",
        "test=df_son.iloc[0:1,:]\n",
        "test"
      ],
      "metadata": {
        "colab": {
          "base_uri": "https://localhost:8080/",
          "height": 174
        },
        "id": "fGzERGOR7VKi",
        "outputId": "4940aca6-5200-4d22-d133-89e08b39fbcd"
      },
      "execution_count": 383,
      "outputs": [
        {
          "output_type": "execute_result",
          "data": {
            "text/plain": [
              "    sex   scan_age  FixGeo  ETage  ET1_Age  Fixation_Duration_Geometric_AOI  \\\n",
              "13    0  30.423057    87.4   39.0     39.0                            41.82   \n",
              "\n",
              "    Fixation_Duration_Social_AOI  Total_Fixation_Time  \\\n",
              "13                          6.03                47.85   \n",
              "\n",
              "    Percent_Fixation_Geometric  Percent_Fixation_Social  ...  IC10_IC28  \\\n",
              "13                        87.4                     12.6  ...   0.272466   \n",
              "\n",
              "    IC11_IC21  IC11_IC26  IC11_IC28  IC21_IC26  IC21_IC28  IC26_IC28  Module1  \\\n",
              "13  -0.520472  -0.127712   -0.15071  -0.012135  -0.159009   0.029039        1   \n",
              "\n",
              "    Module2  Toddler  \n",
              "13        0        0  \n",
              "\n",
              "[1 rows x 63 columns]"
            ],
            "text/html": [
              "\n",
              "  <div id=\"df-872cce30-9c71-4941-b3af-448a85ee4c0a\">\n",
              "    <div class=\"colab-df-container\">\n",
              "      <div>\n",
              "<style scoped>\n",
              "    .dataframe tbody tr th:only-of-type {\n",
              "        vertical-align: middle;\n",
              "    }\n",
              "\n",
              "    .dataframe tbody tr th {\n",
              "        vertical-align: top;\n",
              "    }\n",
              "\n",
              "    .dataframe thead th {\n",
              "        text-align: right;\n",
              "    }\n",
              "</style>\n",
              "<table border=\"1\" class=\"dataframe\">\n",
              "  <thead>\n",
              "    <tr style=\"text-align: right;\">\n",
              "      <th></th>\n",
              "      <th>sex</th>\n",
              "      <th>scan_age</th>\n",
              "      <th>FixGeo</th>\n",
              "      <th>ETage</th>\n",
              "      <th>ET1_Age</th>\n",
              "      <th>Fixation_Duration_Geometric_AOI</th>\n",
              "      <th>Fixation_Duration_Social_AOI</th>\n",
              "      <th>Total_Fixation_Time</th>\n",
              "      <th>Percent_Fixation_Geometric</th>\n",
              "      <th>Percent_Fixation_Social</th>\n",
              "      <th>...</th>\n",
              "      <th>IC10_IC28</th>\n",
              "      <th>IC11_IC21</th>\n",
              "      <th>IC11_IC26</th>\n",
              "      <th>IC11_IC28</th>\n",
              "      <th>IC21_IC26</th>\n",
              "      <th>IC21_IC28</th>\n",
              "      <th>IC26_IC28</th>\n",
              "      <th>Module1</th>\n",
              "      <th>Module2</th>\n",
              "      <th>Toddler</th>\n",
              "    </tr>\n",
              "  </thead>\n",
              "  <tbody>\n",
              "    <tr>\n",
              "      <th>13</th>\n",
              "      <td>0</td>\n",
              "      <td>30.423057</td>\n",
              "      <td>87.4</td>\n",
              "      <td>39.0</td>\n",
              "      <td>39.0</td>\n",
              "      <td>41.82</td>\n",
              "      <td>6.03</td>\n",
              "      <td>47.85</td>\n",
              "      <td>87.4</td>\n",
              "      <td>12.6</td>\n",
              "      <td>...</td>\n",
              "      <td>0.272466</td>\n",
              "      <td>-0.520472</td>\n",
              "      <td>-0.127712</td>\n",
              "      <td>-0.15071</td>\n",
              "      <td>-0.012135</td>\n",
              "      <td>-0.159009</td>\n",
              "      <td>0.029039</td>\n",
              "      <td>1</td>\n",
              "      <td>0</td>\n",
              "      <td>0</td>\n",
              "    </tr>\n",
              "  </tbody>\n",
              "</table>\n",
              "<p>1 rows × 63 columns</p>\n",
              "</div>\n",
              "      <button class=\"colab-df-convert\" onclick=\"convertToInteractive('df-872cce30-9c71-4941-b3af-448a85ee4c0a')\"\n",
              "              title=\"Convert this dataframe to an interactive table.\"\n",
              "              style=\"display:none;\">\n",
              "        \n",
              "  <svg xmlns=\"http://www.w3.org/2000/svg\" height=\"24px\"viewBox=\"0 0 24 24\"\n",
              "       width=\"24px\">\n",
              "    <path d=\"M0 0h24v24H0V0z\" fill=\"none\"/>\n",
              "    <path d=\"M18.56 5.44l.94 2.06.94-2.06 2.06-.94-2.06-.94-.94-2.06-.94 2.06-2.06.94zm-11 1L8.5 8.5l.94-2.06 2.06-.94-2.06-.94L8.5 2.5l-.94 2.06-2.06.94zm10 10l.94 2.06.94-2.06 2.06-.94-2.06-.94-.94-2.06-.94 2.06-2.06.94z\"/><path d=\"M17.41 7.96l-1.37-1.37c-.4-.4-.92-.59-1.43-.59-.52 0-1.04.2-1.43.59L10.3 9.45l-7.72 7.72c-.78.78-.78 2.05 0 2.83L4 21.41c.39.39.9.59 1.41.59.51 0 1.02-.2 1.41-.59l7.78-7.78 2.81-2.81c.8-.78.8-2.07 0-2.86zM5.41 20L4 18.59l7.72-7.72 1.47 1.35L5.41 20z\"/>\n",
              "  </svg>\n",
              "      </button>\n",
              "      \n",
              "  <style>\n",
              "    .colab-df-container {\n",
              "      display:flex;\n",
              "      flex-wrap:wrap;\n",
              "      gap: 12px;\n",
              "    }\n",
              "\n",
              "    .colab-df-convert {\n",
              "      background-color: #E8F0FE;\n",
              "      border: none;\n",
              "      border-radius: 50%;\n",
              "      cursor: pointer;\n",
              "      display: none;\n",
              "      fill: #1967D2;\n",
              "      height: 32px;\n",
              "      padding: 0 0 0 0;\n",
              "      width: 32px;\n",
              "    }\n",
              "\n",
              "    .colab-df-convert:hover {\n",
              "      background-color: #E2EBFA;\n",
              "      box-shadow: 0px 1px 2px rgba(60, 64, 67, 0.3), 0px 1px 3px 1px rgba(60, 64, 67, 0.15);\n",
              "      fill: #174EA6;\n",
              "    }\n",
              "\n",
              "    [theme=dark] .colab-df-convert {\n",
              "      background-color: #3B4455;\n",
              "      fill: #D2E3FC;\n",
              "    }\n",
              "\n",
              "    [theme=dark] .colab-df-convert:hover {\n",
              "      background-color: #434B5C;\n",
              "      box-shadow: 0px 1px 3px 1px rgba(0, 0, 0, 0.15);\n",
              "      filter: drop-shadow(0px 1px 2px rgba(0, 0, 0, 0.3));\n",
              "      fill: #FFFFFF;\n",
              "    }\n",
              "  </style>\n",
              "\n",
              "      <script>\n",
              "        const buttonEl =\n",
              "          document.querySelector('#df-872cce30-9c71-4941-b3af-448a85ee4c0a button.colab-df-convert');\n",
              "        buttonEl.style.display =\n",
              "          google.colab.kernel.accessAllowed ? 'block' : 'none';\n",
              "\n",
              "        async function convertToInteractive(key) {\n",
              "          const element = document.querySelector('#df-872cce30-9c71-4941-b3af-448a85ee4c0a');\n",
              "          const dataTable =\n",
              "            await google.colab.kernel.invokeFunction('convertToInteractive',\n",
              "                                                     [key], {});\n",
              "          if (!dataTable) return;\n",
              "\n",
              "          const docLinkHtml = 'Like what you see? Visit the ' +\n",
              "            '<a target=\"_blank\" href=https://colab.research.google.com/notebooks/data_table.ipynb>data table notebook</a>'\n",
              "            + ' to learn more about interactive tables.';\n",
              "          element.innerHTML = '';\n",
              "          dataTable['output_type'] = 'display_data';\n",
              "          await google.colab.output.renderOutput(dataTable, element);\n",
              "          const docLink = document.createElement('div');\n",
              "          docLink.innerHTML = docLinkHtml;\n",
              "          element.appendChild(docLink);\n",
              "        }\n",
              "      </script>\n",
              "    </div>\n",
              "  </div>\n",
              "  "
            ]
          },
          "metadata": {},
          "execution_count": 383
        }
      ]
    },
    {
      "cell_type": "code",
      "source": [
        "#aldığım veriyi predicte gönderiyorum ve tahmin sonucumu alıyorum\n",
        "pred=svm_cv.predict(test)\n",
        "print(pred)"
      ],
      "metadata": {
        "colab": {
          "base_uri": "https://localhost:8080/"
        },
        "id": "xmsbU6Ua7kOw",
        "outputId": "ec2d7aa9-b575-4f28-c909-8954a172bcd8"
      },
      "execution_count": 384,
      "outputs": [
        {
          "output_type": "stream",
          "name": "stdout",
          "text": [
            "[1]\n"
          ]
        }
      ]
    }
  ]
}